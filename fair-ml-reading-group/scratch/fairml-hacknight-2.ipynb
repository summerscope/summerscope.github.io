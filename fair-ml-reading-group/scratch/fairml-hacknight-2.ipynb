{
 "cells": [
  {
   "cell_type": "code",
   "execution_count": 65,
   "metadata": {},
   "outputs": [],
   "source": [
    "# import the libraries we will use\n",
    "import numpy as np               # for array and matrix maths\n",
    "import pandas as pd              # for working with tables of data\n",
    "import matplotlib.pyplot as plt  # for making plots"
   ]
  },
  {
   "cell_type": "code",
   "execution_count": 66,
   "metadata": {},
   "outputs": [],
   "source": [
    "# Load the Kaggle german credit data: https://www.kaggle.com/uciml/german-credit/data\n",
    "df_kaggle = pd.read_csv(\"~/data/german/german_credit_data.csv\", index_col=0)\n",
    "# Load the original UCI german credit data: https://archive.ics.uci.edu/ml/datasets/Statlog+%28German+Credit+Data%29\n",
    "df_uci = pd.read_csv(\"~/data/german/german.data\", header=None, sep=\"\\s+\")\n",
    "\n",
    "# Add the last column from the UCI data to the kaggle data to get labels\n",
    "last_column_uci = df_uci.iloc[:, -1]\n",
    "df = df_kaggle.assign(Good=last_column_uci)"
   ]
  },
  {
   "cell_type": "code",
   "execution_count": 67,
   "metadata": {},
   "outputs": [],
   "source": [
    "category_cols = ['Sex', 'Job', 'Housing', 'Purpose']\n",
    "target_col = 'Good'\n",
    "\n",
    "for c in category_cols + [target_col]:\n",
    "    df[c] = df[c].astype('category')\n",
    "\n",
    "def uci_class_as_boolean(x):\n",
    "    if x == 1:\n",
    "        return True\n",
    "    elif x == 2:\n",
    "        return False\n",
    "    else:\n",
    "        return x\n",
    "    \n",
    "df[target_col] = df[target_col].apply(uci_class_as_boolean)\n",
    "df = df[pd.notna(df['Saving accounts'])]"
   ]
  },
  {
   "cell_type": "code",
   "execution_count": 68,
   "metadata": {},
   "outputs": [
    {
     "data": {
      "text/plain": [
       "array(['little', 'quite rich', 'rich', 'moderate'], dtype=object)"
      ]
     },
     "execution_count": 68,
     "metadata": {},
     "output_type": "execute_result"
    }
   ],
   "source": [
    "df['Saving accounts'].unique()"
   ]
  },
  {
   "cell_type": "code",
   "execution_count": 69,
   "metadata": {},
   "outputs": [],
   "source": [
    "account_value_lookup = {\n",
    "    np.nan: 0,\n",
    "    'little': 1,\n",
    "    'moderate': 2,\n",
    "    'rich': 3,\n",
    "    'quite rich': 4\n",
    "}\n",
    "\n",
    "def dollar_dollar(x):\n",
    "    return account_value_lookup[x]\n",
    "\n",
    "df['Saving amount'] = df['Saving accounts'].apply(dollar_dollar)"
   ]
  },
  {
   "cell_type": "code",
   "execution_count": 70,
   "metadata": {},
   "outputs": [],
   "source": [
    "import pystan"
   ]
  },
  {
   "cell_type": "code",
   "execution_count": 49,
   "metadata": {},
   "outputs": [],
   "source": [
    "model_code = \"\"\"\n",
    "data {\n",
    "    int<lower=0> N;\n",
    "\n",
    "    int<lower=0, upper=1> y[N];\n",
    "\n",
    "    int female[N];\n",
    "    vector[N] bank_balance;\n",
    "    \n",
    "    real<lower=0> money_mean_prior_std;\n",
    "    real<lower=0> money_per_u_prior_std;\n",
    "\n",
    "    real<lower=0> good_alpha_prior_std;\n",
    "    real<lower=0> good_beta_prior_std;\n",
    "    \n",
    "    real<lower=0> bank_balance_std;\n",
    "}\n",
    "\n",
    "parameters {\n",
    "    real money_mean_male;\n",
    "    real money_mean_female;\n",
    "    real money_per_u;\n",
    "\n",
    "    real good_alpha;\n",
    "    real good_beta;\n",
    "\n",
    "    vector[N] u;\n",
    "}\n",
    "\n",
    "model {\n",
    "    money_mean_female ~ normal(0, money_mean_prior_std);\n",
    "    money_mean_male ~ normal(0, money_mean_prior_std);\n",
    "    money_per_u ~ normal(0, money_per_u_prior_std);\n",
    "\n",
    "    good_alpha ~ normal(0, good_alpha_prior_std);\n",
    "    good_beta ~ normal(0, good_beta_prior_std);\n",
    "\n",
    "    u ~ normal(0, 1);\n",
    "\n",
    "    for (n in 1:N) {\n",
    "        real pred_balance;\n",
    "        if (female[n]) {\n",
    "            pred_balance = money_mean_female + money_per_u*u[n];\n",
    "        } else {\n",
    "            pred_balance = money_mean_male + money_per_u*u[n];\n",
    "        }\n",
    "        bank_balance[n] ~ normal(pred_balance, bank_balance_std);\n",
    "    }\n",
    "    \n",
    "    y ~ bernoulli_logit(bank_balance * good_beta + good_alpha + u);\n",
    "}\n",
    "\"\"\""
   ]
  },
  {
   "cell_type": "code",
   "execution_count": 50,
   "metadata": {},
   "outputs": [
    {
     "name": "stderr",
     "output_type": "stream",
     "text": [
      "INFO:pystan:COMPILING THE C++ CODE FOR MODEL anon_model_dd88a3a980ba9f56451dd3bed951ee71 NOW.\n"
     ]
    }
   ],
   "source": [
    "model = pystan.StanModel(model_code=model_code)"
   ]
  },
  {
   "cell_type": "code",
   "execution_count": 71,
   "metadata": {},
   "outputs": [],
   "source": [
    "data = dict(\n",
    "    N = len(df),\n",
    "    y = df['Good'].values.astype(np.int),\n",
    "    female = (df['Sex'] == 'female').values.astype(np.int),\n",
    "    bank_balance = df['Saving amount'].values,\n",
    "    money_mean_prior_std = 4.0,\n",
    "    money_per_u_prior_std = 4.0,\n",
    "    good_alpha_prior_std = 1.0,\n",
    "    good_beta_prior_std = 1.0,\n",
    "    bank_balance_std = 1.0)"
   ]
  },
  {
   "cell_type": "code",
   "execution_count": 72,
   "metadata": {},
   "outputs": [],
   "source": [
    "fit = model.sampling(data)"
   ]
  },
  {
   "cell_type": "code",
   "execution_count": 73,
   "metadata": {},
   "outputs": [
    {
     "name": "stderr",
     "output_type": "stream",
     "text": [
      "WARNING:pystan:Truncated summary with the 'fit.__repr__' method. For the full summary use 'print(fit)'\n"
     ]
    },
    {
     "data": {
      "text/plain": [
       "\n",
       "Warning: Shown data is truncated to 100 parameters\n",
       "For the full summary use 'print(fit)'\n",
       "\n",
       "Inference for Stan model: anon_model_dd88a3a980ba9f56451dd3bed951ee71.\n",
       "4 chains, each with iter=2000; warmup=1000; thin=1; \n",
       "post-warmup draws per chain=1000, total post-warmup draws=4000.\n",
       "\n",
       "                    mean se_mean     sd   2.5%    25%    50%     75%  97.5%  n_eff   Rhat\n",
       "money_mean_male     1.48  5.6e-4   0.04    1.4   1.46   1.48    1.51   1.57   5815    1.0\n",
       "money_mean_female   1.45  8.3e-4   0.06   1.33   1.41   1.45    1.49   1.58   5680    1.0\n",
       "money_per_u       2.8e-4  3.0e-3   0.08  -0.16  -0.05 4.9e-4    0.05   0.16    729   1.01\n",
       "good_alpha          0.24  6.4e-3    0.2  -0.16    0.1   0.24    0.38   0.63   1011    1.0\n",
       "good_beta           0.44  4.3e-3   0.13   0.19   0.35   0.44    0.53   0.71    946    1.0\n",
       "u[1]               -0.53    0.01    0.9   -2.3  -1.12  -0.53    0.07   1.26   5278    1.0\n",
       "u[2]                0.29    0.01    0.9   -1.4  -0.33   0.28     0.9   2.08   6670    1.0\n",
       "u[3]                 0.3    0.01   0.92  -1.45  -0.32   0.29    0.92   2.11   5295    1.0\n",
       "u[4]               -0.51    0.01   0.91  -2.31   -1.1   -0.5    0.08   1.24   6117    1.0\n",
       "u[5]                0.13    0.01   0.95  -1.65  -0.55   0.11    0.78   2.01   4342    1.0\n",
       "u[6]                 0.3    0.01   0.91  -1.46  -0.31   0.28     0.9   2.09   6452    1.0\n",
       "u[7]                0.17    0.01   0.94  -1.67  -0.47   0.16     0.8   2.08   4833    1.0\n",
       "u[8]               -0.53    0.01   0.91  -2.31  -1.16  -0.52    0.08   1.24   6207    1.0\n",
       "u[9]               -0.52    0.01   0.88  -2.22  -1.13  -0.52    0.08   1.22   5723    1.0\n",
       "u[10]              -0.54    0.01   0.92  -2.34  -1.16  -0.56    0.05   1.28   5942    1.0\n",
       "u[11]               0.29    0.01   0.93  -1.51  -0.35   0.31    0.92   2.12   5965    1.0\n",
       "u[12]              -0.52    0.01   0.92  -2.39  -1.12  -0.51    0.09   1.35   5598    1.0\n",
       "u[13]               0.31    0.01    0.9  -1.44  -0.29   0.31     0.9   2.13   5668    1.0\n",
       "u[14]               -0.6    0.01   0.92   -2.4  -1.21  -0.58 -5.7e-3   1.19   4635    1.0\n",
       "u[15]              -0.53    0.02   0.94  -2.35  -1.17  -0.54    0.09   1.33   3875    1.0\n",
       "u[16]               0.13    0.01   1.01  -1.84  -0.57   0.12    0.81   2.14   5041    1.0\n",
       "u[17]                0.3    0.01   0.93  -1.51  -0.33    0.3    0.92   2.14   5434    1.0\n",
       "u[18]               0.15    0.02   0.98  -1.71  -0.52   0.14    0.81    2.1   4216    1.0\n",
       "u[19]               0.29    0.01   0.92  -1.54  -0.31   0.28     0.9   2.09   5577    1.0\n",
       "u[20]               0.24    0.01   0.94  -1.61  -0.41   0.26    0.89   2.09   5714    1.0\n",
       "u[21]               0.28    0.01   0.92  -1.51  -0.34   0.27    0.88   2.09   6240    1.0\n",
       "u[22]               0.31    0.01    0.9  -1.52  -0.29    0.3     0.9   2.08   6650    1.0\n",
       "u[23]               0.18    0.01   0.93  -1.64  -0.45   0.17    0.79   2.08   5469    1.0\n",
       "u[24]                0.3    0.01   0.91  -1.45   -0.3    0.3     0.9    2.1   5616    1.0\n",
       "u[25]              -0.53    0.01   0.91  -2.32  -1.15  -0.54    0.08   1.22   5183    1.0\n",
       "u[26]                0.2    0.01   0.95  -1.59  -0.45   0.18    0.84   2.09   5468    1.0\n",
       "u[27]                0.3    0.01   0.89  -1.45  -0.31    0.3    0.89   2.03   4764    1.0\n",
       "u[28]               0.23    0.01   0.93   -1.6  -0.38   0.21    0.83   2.04   5499    1.0\n",
       "u[29]               0.31    0.01   0.92  -1.51  -0.31    0.3    0.91   2.16   5161    1.0\n",
       "u[30]              -0.52    0.01   0.92  -2.36  -1.13  -0.52     0.1   1.27   5481    1.0\n",
       "u[31]                0.3    0.01   0.92  -1.51  -0.34    0.3    0.91   2.16   4953    1.0\n",
       "u[32]              -0.52    0.01    0.9  -2.25  -1.15  -0.54     0.1   1.22   4316    1.0\n",
       "u[33]                0.3    0.01   0.92  -1.43  -0.35   0.28    0.92   2.09   6209    1.0\n",
       "u[34]               0.31    0.01   0.93  -1.56  -0.32   0.32    0.93   2.22   6050    1.0\n",
       "u[35]               0.14    0.01    1.0  -1.82  -0.54   0.15     0.8    2.1   5184    1.0\n",
       "u[36]               0.12    0.01   0.97  -1.72  -0.55   0.11    0.76   2.03   4398    1.0\n",
       "u[37]               0.32    0.01   0.92  -1.46  -0.29    0.3    0.94   2.21   5476    1.0\n",
       "u[38]               0.24    0.01   0.91  -1.56  -0.37   0.21    0.84    2.1   5473    1.0\n",
       "u[39]              -0.51    0.01   0.95   -2.4  -1.15   -0.5    0.12    1.3   6250    1.0\n",
       "u[40]                0.3    0.01   0.94  -1.48  -0.34   0.29    0.95   2.15   6216    1.0\n",
       "u[41]               0.14    0.01   0.97  -1.75  -0.51   0.13     0.8   2.03   4293    1.0\n",
       "u[42]               0.14    0.01   0.97  -1.72  -0.53   0.12    0.78   2.04   4791    1.0\n",
       "u[43]                0.3    0.01   0.93  -1.55  -0.34    0.3    0.92   2.08   4516    1.0\n",
       "u[44]               0.23    0.01   0.94  -1.62  -0.43   0.24    0.86   2.08   6334    1.0\n",
       "u[45]               0.31    0.01    0.9  -1.43  -0.33   0.29    0.93   2.05   5752    1.0\n",
       "u[46]                0.3    0.01   0.93  -1.53  -0.31    0.3    0.94    2.1   4859    1.0\n",
       "u[47]              -0.53    0.01    0.9  -2.32  -1.14  -0.53    0.06   1.22   4956    1.0\n",
       "u[48]               0.29    0.01    0.9  -1.45   -0.3   0.29    0.89   2.09   5197    1.0\n",
       "u[49]               0.32    0.01   0.96  -1.57  -0.33   0.32    0.97   2.18   5379    1.0\n",
       "u[50]              -0.53    0.01   0.91  -2.31  -1.12  -0.53    0.09   1.25   5218    1.0\n",
       "u[51]               0.31    0.01   0.91  -1.46  -0.29    0.3    0.88   2.18   4540    1.0\n",
       "u[52]              -0.53    0.01    0.9  -2.26  -1.16  -0.53    0.09    1.2   5749    1.0\n",
       "u[53]              -0.51    0.01    0.9  -2.24  -1.15  -0.51    0.12   1.24   5366    1.0\n",
       "u[54]               0.29    0.01   0.89   -1.4   -0.3    0.3    0.88    2.0   6103    1.0\n",
       "u[55]               0.29    0.01   0.94  -1.52  -0.35   0.28    0.91   2.18   4867    1.0\n",
       "u[56]               0.18    0.01   0.92  -1.57  -0.45   0.16    0.81    2.0   5432    1.0\n",
       "u[57]              -0.51    0.01   0.91  -2.31  -1.12  -0.51    0.09   1.24   6780    1.0\n",
       "u[58]                0.3    0.01   0.92   -1.5  -0.31   0.29     0.9   2.15   5246    1.0\n",
       "u[59]               0.31    0.01   0.92  -1.47  -0.32   0.29    0.92    2.1   6423    1.0\n",
       "u[60]                0.3    0.01   0.94  -1.49  -0.34   0.28    0.95   2.18   5013    1.0\n",
       "u[61]               0.31    0.01   0.94  -1.47  -0.33   0.31    0.94   2.14   6496    1.0\n",
       "u[62]              -0.52    0.01    0.9  -2.28  -1.13   -0.5    0.06   1.23   5040    1.0\n",
       "u[63]               0.29    0.01   0.93  -1.51  -0.33   0.27    0.89   2.21   5467    1.0\n",
       "u[64]               0.29    0.01   0.93  -1.48  -0.35   0.28    0.92   2.14   7999    1.0\n",
       "u[65]               0.16    0.01   0.98  -1.73  -0.51   0.17    0.83   2.06   4994    1.0\n",
       "u[66]               0.25    0.01   0.92  -1.48   -0.4   0.24    0.88    2.1   6068    1.0\n",
       "u[67]               0.31    0.01    0.9  -1.41  -0.33    0.3    0.92   2.07   4622    1.0\n",
       "u[68]               0.31    0.01   0.94  -1.55   -0.3    0.3    0.92   2.23   5713    1.0\n",
       "u[69]                0.3    0.01   0.94  -1.53  -0.34   0.29    0.93   2.19   6019    1.0\n",
       "u[70]                0.3    0.01   0.92  -1.46  -0.32   0.28     0.9   2.16   5700    1.0\n",
       "u[71]              -0.59    0.01   0.91  -2.37  -1.22   -0.6    0.01   1.25   5757    1.0\n",
       "u[72]               0.26    0.01   0.91  -1.51  -0.36   0.25    0.85   2.08   5667    1.0\n",
       "u[73]              -0.52    0.01   0.93  -2.36  -1.15  -0.53     0.1   1.26   6392    1.0\n",
       "u[74]               0.31    0.01   0.93   -1.5  -0.32    0.3    0.93   2.18   6045    1.0\n",
       "u[75]               0.31    0.01   0.93  -1.56  -0.32   0.32    0.92   2.18   6069    1.0\n",
       "u[76]               0.19    0.01   0.95  -1.64  -0.45   0.17    0.81   2.09   5075    1.0\n",
       "u[77]              -0.51    0.01   0.89  -2.31  -1.13  -0.51    0.09   1.21   4635    1.0\n",
       "u[78]               0.23    0.01   0.92  -1.52   -0.4   0.24    0.87   2.07   5501    1.0\n",
       "u[79]               0.32    0.01   0.94  -1.49  -0.31    0.3    0.95    2.2   5235    1.0\n",
       "u[80]               0.24    0.01   0.97  -1.62  -0.41   0.22    0.88   2.14   6393    1.0\n",
       "u[81]                0.3    0.01   0.92   -1.5  -0.32    0.3     0.9   2.09   5308    1.0\n",
       "u[82]               0.32    0.01   0.91  -1.43  -0.29   0.31    0.91   2.13   5417    1.0\n",
       "u[83]                0.3    0.01   0.91  -1.47  -0.29   0.28    0.91    2.1   5297    1.0\n",
       "u[84]              -0.53    0.01   0.93  -2.29  -1.18  -0.51    0.11   1.28   6209    1.0\n",
       "u[85]              -0.54    0.01   0.91  -2.33  -1.14  -0.54    0.06   1.25   5407    1.0\n",
       "u[86]               0.29    0.01   0.92  -1.47  -0.33   0.28     0.9    2.1   5875    1.0\n",
       "u[87]               0.16    0.01   0.97  -1.75  -0.48   0.17     0.8   2.06   4411    1.0\n",
       "u[88]               0.23    0.01   0.96  -1.63  -0.43   0.23    0.88    2.1   5672    1.0\n",
       "u[89]               0.31    0.01   0.92  -1.47   -0.3   0.31     0.9   2.11   5755    1.0\n",
       "u[90]                0.3    0.01   0.91   -1.5  -0.31   0.31    0.91   2.07   5656    1.0\n",
       "u[91]              -0.52    0.01   0.89  -2.26  -1.11  -0.52    0.05   1.31   6019    1.0\n",
       "u[92]               0.14    0.01   0.95  -1.67  -0.51   0.14    0.77   2.06   4439    1.0\n",
       "u[93]              -0.72    0.02   0.99  -2.59   -1.4  -0.74   -0.06   1.26   3663    1.0\n",
       "u[94]               0.15    0.02   0.93  -1.71  -0.47   0.15    0.77   2.04   3514    1.0\n",
       "lp__               -1188    0.48   20.2  -1228  -1201  -1188   -1175  -1150   1782    1.0\n",
       "\n",
       "Samples were drawn using NUTS at Fri Nov 29 20:26:52 2019.\n",
       "For each parameter, n_eff is a crude measure of effective sample size,\n",
       "and Rhat is the potential scale reduction factor on split chains (at \n",
       "convergence, Rhat=1)."
      ]
     },
     "execution_count": 73,
     "metadata": {},
     "output_type": "execute_result"
    }
   ],
   "source": [
    "fit"
   ]
  },
  {
   "cell_type": "code",
   "execution_count": null,
   "metadata": {},
   "outputs": [],
   "source": []
  }
 ],
 "metadata": {
  "kernelspec": {
   "display_name": "Python (stan env)",
   "language": "python",
   "name": "stan"
  },
  "language_info": {
   "codemirror_mode": {
    "name": "ipython",
    "version": 3
   },
   "file_extension": ".py",
   "mimetype": "text/x-python",
   "name": "python",
   "nbconvert_exporter": "python",
   "pygments_lexer": "ipython3",
   "version": "3.7.4"
  }
 },
 "nbformat": 4,
 "nbformat_minor": 4
}
